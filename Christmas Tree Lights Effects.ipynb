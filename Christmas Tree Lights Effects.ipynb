{
 "cells": [
  {
   "cell_type": "markdown",
   "metadata": {},
   "source": [
    "# Christmas Tree Lights - Various Effects\n",
    "171209<br>\n",
    "171210<br>\n",
    "191215 Using for 2019 Xmas - simple string of 4 x 300. Mapped physical positions <br> \n",
    "201205 2020 Xmas\n",
    "\n",
    "Note that you need to edit the actual librray to change the LED numbers and boundaries <br>\n",
    "See /home/pi/DotStar/luc/python-dotstar-lights/dotstar/tree_lights.py <br>\n",
    "\n",
    "2020\n",
    "I should look at upgrading to Python 3 \n",
    "Micropython version is here - but is it compatible with Python 3?\n",
    "https://learn.adafruit.com/circuitpython-essentials/circuitpython-dotstar\n",
    "\n",
    "Can I sync to lights?\n",
    "\n"
   ]
  },
  {
   "cell_type": "markdown",
   "metadata": {},
   "source": [
    "## Setup"
   ]
  },
  {
   "cell_type": "code",
   "execution_count": 1,
   "metadata": {},
   "outputs": [],
   "source": [
    "import sys\n",
    "\n",
    "# Have to remove this version of path from the system path, otherwise can load tree_lights\n",
    "# sys.path.remove('/home/pi/DotStar/luc/python-dotstar-lights/dotstar')\n",
    "\n",
    "libpath = \"/home/pi/DotStar/luc/python-dotstar-lights\"\n",
    "if not( libpath in sys.path):\n",
    "    sys.path.append(libpath)\n",
    "\n",
    "from dotstar import tree_lights\n",
    "#import dotstar\n",
    "\n",
    "import time\n",
    "import random\n",
    "import numpy as np\n",
    "import math\n",
    "\n",
    "global flagZero\n",
    "flagZero = False \n",
    "# Use to see if lights have been already been zeroed, to avoid doing it repeatedly"
   ]
  },
  {
   "cell_type": "code",
   "execution_count": 2,
   "metadata": {},
   "outputs": [],
   "source": [
    "# Matplotlib provides RGB to HSV conversion function: matplotlib.colors.rgb_to_hsv():\n",
    "# matplotlib.colors.rgb_to_hsv(arr)\n",
    "# convert rgb values in a numpy array to hsv values input and output arrays should have shape (M,N,3)\n",
    "\n",
    "import matplotlib.pyplot as plt\n",
    "import matplotlib as mpl\n"
   ]
  },
  {
   "cell_type": "markdown",
   "metadata": {},
   "source": [
    "### Time keeping"
   ]
  },
  {
   "cell_type": "code",
   "execution_count": 19,
   "metadata": {},
   "outputs": [],
   "source": [
    "def waitHereDuringSleepPeriods():\n",
    "    global flagZero\n",
    "    \n",
    "    flag_NeverSleep = False   # True - Will stop any sleep logic, use while testing\n",
    "    flag_forceWeekend = True\n",
    "    \n",
    "    # flagZero is used so we don't keep sending tree.zeroAllPixels()\n",
    "    tt = time.time()\n",
    "    h = (time.gmtime(tt).tm_hour - 5)%24 # Hour of day EST\n",
    "    m = time.gmtime(tt).tm_min\n",
    "    s = time.gmtime(tt).tm_sec\n",
    "    w = time.gmtime(tt).tm_wday # 0 is MONDAY\n",
    "    \n",
    "    if flag_forceWeekend: # SET ALWAYS TO WEEKEND SCHEDULE\n",
    "        w = 6\n",
    "\n",
    "    # Can comment this out\n",
    "    # print(\"Day %1d  Time %02d:%02d:%02d\"%(w,h,m,s ))\n",
    "\n",
    "    if m==0 and s==0:\n",
    "        print(\"Day %1d  Time %02d:%02d:%02d\"%(w,h,m,s ))\n",
    "        time.sleep(1.)\n",
    "    if ( not(flag_NeverSleep) # flag_NeverSleep = True - stops it from sleeping\n",
    "        and\n",
    "        (\n",
    "        ( \n",
    "            (w>=0 and w<=4) # Weekday\n",
    "            and \n",
    "            (  \n",
    "            (h>=9 and h<=15)# 0900-1500 off\n",
    "            or(h>=0 and h<=6)# 0000-0500 off\n",
    "            )\n",
    "        ) \n",
    "        or\n",
    "        (\n",
    "            (w>=5 and w<=6) # Weekend\n",
    "            and\n",
    "            (\n",
    "            (h>=0 and h<=8) # 0000-0800 off\n",
    "            )\n",
    "        )\n",
    "        )\n",
    "    ):\n",
    "        if not flagZero: #\n",
    "            tree.zeroAllPixels()\n",
    "            flagZero = True    # Remember we have already zeroed lights\n",
    "            print( \"Tree is sleeping (hour=%d) - will start again in while\"%h )\n",
    "            time.sleep( 60*60 ) # Sleep for 1 hour\n",
    "        else:\n",
    "            flagZero = False # we have lights on"
   ]
  },
  {
   "cell_type": "markdown",
   "metadata": {},
   "source": [
    "### Color Temperature RGB"
   ]
  },
  {
   "cell_type": "code",
   "execution_count": 4,
   "metadata": {},
   "outputs": [],
   "source": [
    "kelvin_table = {\n",
    "    1000: (255, 56, 0),\n",
    "    1100: (255, 71, 0),\n",
    "    1200: (255, 83, 0),\n",
    "    1300: (255, 93, 0),\n",
    "    1400: (255, 101, 0),\n",
    "    1500: (255, 109, 0),\n",
    "    1600: (255, 115, 0),\n",
    "    1700: (255, 121, 0),\n",
    "    1800: (255, 126, 0),\n",
    "    1900: (255, 131, 0),\n",
    "    2000: (255, 138, 18),\n",
    "    2100: (255, 142, 33),\n",
    "    2200: (255, 147, 44),\n",
    "    2300: (255, 152, 54),\n",
    "    2400: (255, 157, 63),\n",
    "    2500: (255, 161, 72),\n",
    "    2600: (255, 165, 79),\n",
    "    2700: (255, 169, 87),\n",
    "    2800: (255, 173, 94),\n",
    "    2900: (255, 177, 101),\n",
    "    3000: (255, 180, 107),\n",
    "    3100: (255, 184, 114),\n",
    "    3200: (255, 187, 120),\n",
    "    3300: (255, 190, 126),\n",
    "    3400: (255, 193, 132),\n",
    "    3500: (255, 196, 137),\n",
    "    3600: (255, 199, 143),\n",
    "    3700: (255, 201, 148),\n",
    "    3800: (255, 204, 153),\n",
    "    3900: (255, 206, 159),\n",
    "    4000: (255, 209, 163),\n",
    "    4100: (255, 211, 168),\n",
    "    4200: (255, 213, 173),\n",
    "    4300: (255, 215, 177),\n",
    "    4400: (255, 217, 182),\n",
    "    4500: (255, 219, 186),\n",
    "    4600: (255, 221, 190),\n",
    "    4700: (255, 223, 194),\n",
    "    4800: (255, 225, 198),\n",
    "    4900: (255, 227, 202),\n",
    "    5000: (255, 228, 206),\n",
    "    5100: (255, 230, 210),\n",
    "    5200: (255, 232, 213),\n",
    "    5300: (255, 233, 217),\n",
    "    5400: (255, 235, 220),\n",
    "    5500: (255, 236, 224),\n",
    "    5600: (255, 238, 227),\n",
    "    5700: (255, 239, 230),\n",
    "    5800: (255, 240, 233),\n",
    "    5900: (255, 242, 236),\n",
    "    6000: (255, 243, 239),\n",
    "    6100: (255, 244, 242),\n",
    "    6200: (255, 245, 245),\n",
    "    6300: (255, 246, 247),\n",
    "    6400: (255, 248, 251),\n",
    "    6500: (255, 249, 253),\n",
    "    6600: (254, 249, 255),\n",
    "    6700: (252, 247, 255),\n",
    "    6800: (249, 246, 255),\n",
    "    6900: (247, 245, 255),\n",
    "    7000: (245, 243, 255),\n",
    "    7100: (243, 242, 255),\n",
    "    7200: (240, 241, 255),\n",
    "    7300: (239, 240, 255),\n",
    "    7400: (237, 239, 255),\n",
    "    7500: (235, 238, 255),\n",
    "    7600: (233, 237, 255),\n",
    "    7700: (231, 236, 255),\n",
    "    7800: (230, 235, 255),\n",
    "    7900: (228, 234, 255),\n",
    "    8000: (227, 233, 255),\n",
    "    8100: (225, 232, 255),\n",
    "    8200: (224, 231, 255),\n",
    "    8300: (222, 230, 255),\n",
    "    8400: (221, 230, 255),\n",
    "    8500: (220, 229, 255),\n",
    "    8600: (218, 229, 255),\n",
    "    8700: (217, 227, 255),\n",
    "    8800: (216, 227, 255),\n",
    "    8900: (215, 226, 255),\n",
    "    9000: (214, 225, 255),\n",
    "    9100: (212, 225, 255),\n",
    "    9200: (211, 224, 255),\n",
    "    9300: (210, 223, 255),\n",
    "    9400: (209, 223, 255),\n",
    "    9500: (208, 222, 255),\n",
    "    9600: (207, 221, 255),\n",
    "    9700: (207, 221, 255),\n",
    "    9800: (206, 220, 255),\n",
    "    9900: (205, 220, 255),\n",
    "    10000: (207, 218, 255),\n",
    "    10100: (207, 218, 255),\n",
    "    10200: (206, 217, 255),\n",
    "    10300: (205, 217, 255),\n",
    "    10400: (204, 216, 255),\n",
    "    10500: (204, 216, 255),\n",
    "    10600: (203, 215, 255),\n",
    "    10700: (202, 215, 255),\n",
    "    10800: (202, 214, 255),\n",
    "    10900: (201, 214, 255),\n",
    "    11000: (200, 213, 255),\n",
    "    11100: (200, 213, 255),\n",
    "    11200: (199, 212, 255),\n",
    "    11300: (198, 212, 255),\n",
    "    11400: (198, 212, 255),\n",
    "    11500: (197, 211, 255),\n",
    "    11600: (197, 211, 255),\n",
    "    11700: (197, 210, 255),\n",
    "    11800: (196, 210, 255),\n",
    "    11900: (195, 210, 255),\n",
    "    12000: (195, 209, 255)}"
   ]
  },
  {
   "cell_type": "code",
   "execution_count": 5,
   "metadata": {},
   "outputs": [
    {
     "data": {
      "text/plain": [
       "(255, 152, 54)"
      ]
     },
     "execution_count": 5,
     "metadata": {},
     "output_type": "execute_result"
    }
   ],
   "source": [
    "kelvin_table[2300]"
   ]
  },
  {
   "cell_type": "markdown",
   "metadata": {},
   "source": [
    "### LED Manipulation Version 1"
   ]
  },
  {
   "cell_type": "code",
   "execution_count": 4,
   "metadata": {},
   "outputs": [],
   "source": [
    "def twinkleArray(ia):\n",
    "    a = ia.astype(float)\n",
    "    # Twinkle values in array using adjustment that is based on the value of pixel\n",
    "    # Amplitude of twinkle is  pixel +/- sqrt(pixel) [rand between limits]\n",
    "    a = (a \n",
    "           + ( np.sqrt(abs(a)) * (2.* (np.random.rand(a.size)-0.5) ) )\n",
    "        ) \n",
    "    return( a.astype(int) )\n",
    "\n",
    "\n",
    "def writeArrayIndexList(indexList , amplitude , col_1 , min_1=0 ): \n",
    "    # indexList are LED locations\n",
    "    # Amplitude can be same length floats that multiplies col g r b vector\n",
    "    # Array a (amplitude) * col (3 element) + min (1 or 3 element)\n",
    "    # All are numpy arrays\n",
    "    \n",
    "    # If amplitude is slingle value, then make it an array\n",
    "    if not( hasattr(amplitude, \"__len__\") ):\n",
    "        amplitude = amplitude * np.full_like(indexList, 1.)\n",
    "    for (n,i) in enumerate(indexList):\n",
    "        tree.setPixel( i , *( ( min_1+(amplitude[n] * col_1) ).astype(int) ) )\n",
    "\n",
    "\n",
    "def writeArray(a,col_1,min_1=0): \n",
    "    # Array a (amplitude) * col (3 element) + min (1 or 3 element)\n",
    "    # All are numpy arrays\n",
    "    for i in range(a.size):\n",
    "        tree.setPixel( i , *( ( min_1+(a[i] * col_1) ).astype(int) ) )\n",
    "\n",
    "def writeArray2(a ,col_1 ,col_2 ,min_1=0 ,min_2=0 ): \n",
    "    # Array a (amplitude) * col (3 element) + min (1 or 3 element)\n",
    "    # All are numpy arrays\n",
    "    for i in range(a.size):\n",
    "        if a[i]>0:\n",
    "            tree.setPixel( i , *( ( min_1+(a[i] * col_1) ).astype(int) ) )\n",
    "        else:\n",
    "            tree.setPixel( i , *( ( min_2+(abs(a[i]) * col_2) ).astype(int) ) )\n",
    "            \n",
    "            \n",
    "def writeHSVIndexList(indexList , hue , saturation , brightness ): # NOT DONE YET\n",
    "    # indexList are LED locations\n",
    "    # Amplitude can be same length floats that multiplies col g r b vector\n",
    "    # Array a (amplitude) * col (3 element) + min (1 or 3 element)\n",
    "    # All are numpy arrays\n",
    "    \n",
    "    # If amplitude is slingle value, then make it an array\n",
    "    if not( hasattr(amplitude, \"__len__\") ):\n",
    "        amplitude = amplitude * np.full_like(indexList, 1.)\n",
    "    for (n,i) in enumerate(indexList):\n",
    "        tree.setPixel( i , *( ( min_1+(amplitude[n] * col_1) ).astype(int) ) )\n",
    "\n"
   ]
  },
  {
   "cell_type": "markdown",
   "metadata": {},
   "source": [
    "## Setup Regions - Pixel Start and End\n",
    "\n",
    "( This is from \"Find the position of LEDs.ipynb\" )<br>\n",
    "191212 RG Xmas 4 x 300 strips only <br>\n",
    "Couldn't get anymore lights to work, even with slower clock speed <br>\n",
    "<br>\n",
    "\n",
    "171210 RG Xmas light Positions <br>\n",
    "Total Pixels:            (1104)<br>  \n",
    "Strip:            0- 592 ( 593)<br>\n",
    "Disk:           593- 847 ( 255)<br>\n",
    "Square:         848-1103 ( 256)<br>\n",
    "Starts at Bottom Outer, going anticlockwise <br>\n",
    "With wiring at top, starts top left, going downwards, then snakes up, ends top right\n"
   ]
  },
  {
   "cell_type": "markdown",
   "metadata": {},
   "source": [
    "#### Single Long Strip"
   ]
  },
  {
   "cell_type": "code",
   "execution_count": 5,
   "metadata": {},
   "outputs": [
    {
     "name": "stdout",
     "output_type": "stream",
     "text": [
      "Total Pixels:            (1188)      \n",
      "Strip:            0-1187 (1188)\n",
      "Disk:          1188-1187 (   0)\n",
      "Square:        1188-1187 (   0)\n"
     ]
    }
   ],
   "source": [
    "# This is from \"Find the position of LEDs.ipynb\"\n",
    "\n",
    "# NUM_PIXELS = 1104  # 1 Strip                                                                               \n",
    "# See end for explicit calculation of NUM_PIXELS\n",
    "\n",
    "if 1:\n",
    "    # All positions assume first pixel is ZERO\n",
    "    # Strip\n",
    "    lengthOfStrip = (4*300-12)\n",
    "    startOfStrip = 0\n",
    "    endOfStrip = startOfStrip + (lengthOfStrip - 1)\n",
    "    # Base:                                                                                                                                  \n",
    "    startOfBase = startOfStrip\n",
    "    endOfBase = endOfStrip\n",
    "\n",
    "    # Disk:                                                                                                                                  \n",
    "    lengthOfDisk = 0\n",
    "    startOfDisk = endOfStrip+1\n",
    "    endOfDisk = startOfDisk + (lengthOfDisk-1)\n",
    "\n",
    "    # Square:                                                                                                                                  \n",
    "    lengthOfSquare = 0\n",
    "    startOfSquare = endOfDisk + 1\n",
    "    endOfSquare = startOfSquare + (lengthOfSquare-1)\n",
    "\n",
    "NUM_PIXELS = lengthOfStrip + lengthOfDisk + lengthOfSquare  # 3 Strips + Disk + Square                                                                               \n",
    "\n",
    "\n",
    "print( \"Total Pixels:            (%4d)      \" % NUM_PIXELS )\n",
    "print( \"Strip:         %4d-%4d (%4d)\"% (startOfStrip,endOfStrip,lengthOfStrip))\n",
    "print( \"Disk:          %4d-%4d (%4d)\"% (startOfDisk,endOfDisk,lengthOfDisk))\n",
    "print( \"Square:        %4d-%4d (%4d)\"% (startOfSquare,endOfSquare,lengthOfSquare))"
   ]
  },
  {
   "cell_type": "markdown",
   "metadata": {},
   "source": [
    "#### Full Setup "
   ]
  },
  {
   "cell_type": "code",
   "execution_count": null,
   "metadata": {},
   "outputs": [],
   "source": [
    "# This is from \"Find the position of LEDs.ipynb\"\n",
    "\n",
    "# NUM_PIXELS = 1104  # 2 Strips + Disk + Square                                                                               \n",
    "# See end for explicit calculation of NUM_PIXELS\n",
    "\n",
    "if 1:\n",
    "    # All positions assume first pixel is ZERO\n",
    "    # Strip\n",
    "    lengthOfStrip = (4*300-7)\n",
    "    startOfStrip = 0\n",
    "    endOfStrip = startOfStrip + (lengthOfStrip - 1)\n",
    "    # Base:                                                                                                                                  \n",
    "    startOfBase = startOfStrip\n",
    "    endOfBase = endOfStrip\n",
    "\n",
    "    # Disk:                                                                                                                                  \n",
    "    lengthOfDisk = 0\n",
    "    startOfDisk = endOfStrip+1\n",
    "    endOfDisk = startOfDisk + (lengthOfDisk-1)\n",
    "\n",
    "    # Square:                                                                                                                                  \n",
    "    lengthOfSquare = 0\n",
    "    startOfSquare = endOfDisk + 1\n",
    "    endOfSquare = startOfSquare + (lengthOfSquare-1)\n",
    "\n",
    "NUM_PIXELS = lengthOfStrip + lengthOfDisk + lengthOfSquare  # 3 Strips + Disk + Square                                                                               \n",
    "\n",
    "\n",
    "print( \"Total Pixels:            (%4d)      \" % NUM_PIXELS )\n",
    "print( \"Strip:         %4d-%4d (%4d)\"% (startOfStrip,endOfStrip,lengthOfStrip))\n",
    "print( \"Disk:          %4d-%4d (%4d)\"% (startOfDisk,endOfDisk,lengthOfDisk))\n",
    "print( \"Square:        %4d-%4d (%4d)\"% (startOfSquare,endOfSquare,lengthOfSquare))"
   ]
  },
  {
   "cell_type": "markdown",
   "metadata": {},
   "source": [
    "## Turn All Lights Off"
   ]
  },
  {
   "cell_type": "code",
   "execution_count": 6,
   "metadata": {},
   "outputs": [],
   "source": [
    "# TURN ALL LIGHTS OFF\n",
    "tree = tree_lights.TreeLights()  # slower rate\n",
    "tree.zeroAllPixels()\n"
   ]
  },
  {
   "cell_type": "markdown",
   "metadata": {},
   "source": [
    "## Set one pixel after another"
   ]
  },
  {
   "cell_type": "code",
   "execution_count": 6,
   "metadata": {},
   "outputs": [],
   "source": [
    "j = 100"
   ]
  },
  {
   "cell_type": "code",
   "execution_count": 7,
   "metadata": {},
   "outputs": [
    {
     "name": "stdout",
     "output_type": "stream",
     "text": [
      "224\n"
     ]
    }
   ],
   "source": [
    "# Put single red pixel \n",
    "\n",
    "updateDelay = 0.001 # secs\n",
    "\n",
    "try:\n",
    "    while j < range(NUM_PIXELS):\n",
    "        j=j+1\n",
    "        tree.zeroAllPixels()\n",
    "        flagZero = True    # Remember we have already zeroed lights\n",
    "\n",
    "        stringCenters = np.array([j,])\n",
    "\n",
    "\n",
    "        for i in stringCenters:\n",
    "            color = (0,64,0)\n",
    "            tree.setPixel( i , *color)\n",
    "\n",
    "        tree.show()                     # Refresh strip\n",
    "        flagZero = False    # Remember we have set lights\n",
    "\n",
    "except KeyboardInterrupt:\n",
    "        # Shutdown pixels on interrupt:\n",
    "        tree.zeroAllPixels()\n",
    "        flagZero = True    # Remember we have already zeroed lights\n",
    "\n",
    "print( j )\n",
    "\n",
    "\n",
    "#mapFromPositionToLEDNumberFunc = np.poly1d( np.polyfit( stringIndex , stringCenters , deg = 3) )\n",
    "#mapFromLEDNumberToPositionFunc = np.poly1d( np.polyfit( stringCenters , stringIndex ,  deg = 4) )\n",
    "#mapFromPositionToLEDNumberFunc"
   ]
  },
  {
   "cell_type": "markdown",
   "metadata": {},
   "source": [
    "## Simple Chase Effect"
   ]
  },
  {
   "cell_type": "code",
   "execution_count": 10,
   "metadata": {},
   "outputs": [],
   "source": [
    "## Simple Chase Effect\n",
    "\n",
    "# Initialize the strip:\n",
    "tree = tree_lights.TreeLights()  # slower rate\n",
    "flagZero = False\n",
    "\n",
    "# Now set above\n",
    "# DISK SWIRL:\n",
    "#startOfDisk = tree_lights.TreeLightSectionPositions.startOfDisk\n",
    "#endOfDisk = tree_lights.TreeLightSectionPositions.endOfDisk\n",
    "\n",
    "swirlHead  = startOfDisk    # Index of first 'on' pixel\n",
    "swirlTail  = startOfDisk-10  # Index of last 'off' pixel\n",
    "swirlColor = [64, 0, 0]\n",
    "\n",
    "swirlEnd = endOfSquare\n",
    "\n",
    "def swirlDiskStep():\n",
    "    \"\"\"Step the swirl on the disk at the top of the tree.\"\"\"\n",
    "    global swirlHead\n",
    "    global swirlTail\n",
    "    global swirlColor\n",
    "\n",
    "    tree.setPixel(swirlHead, *swirlColor)  # Turn on 'head' pixel\n",
    "    tree.setPixel(swirlTail, 0)     # Turn off 'tail'\n",
    "\n",
    "    swirlHead += 1                        # Advance head position\n",
    "    if(swirlHead >= swirlEnd):           # Off end of strip?\n",
    "        swirlHead = startOfDisk              # Reset to start\n",
    "\n",
    "    swirlTail += 1                        # Advance tail position\n",
    "    if(swirlTail >= swirlEnd):\n",
    "        swirlTail = startOfDisk  # Off end? Reset\n",
    "\n",
    "    appendColor = swirlColor[0]\n",
    "    del swirlColor[0]\n",
    "    swirlColor.append(appendColor)\n",
    "\n",
    "\n",
    "# TWINKLE TREE BASE:\n",
    "startOfBase = tree_lights.TreeLightSectionPositions.startOfBase\n",
    "endOfBase = tree_lights.TreeLightSectionPositions.endOfBase\n",
    "# print('Start of base %d, End of Base %d\\n'%(startOfBase , endOfBase))\n",
    "\n",
    "colorChangeIndex = 0\n",
    "\n",
    "def baseTwinkleOnce():\n",
    "    \"\"\"Twinkle the base lights on the tree once.\"\"\"\n",
    "    global colorChangeIndex\n",
    "\n",
    "    for px in range(startOfBase, endOfBase):\n",
    "        # Get a random number in a specific range:\n",
    "        # randomNumb = random.randrange(4, 23, 1)\n",
    "        randomNumb = random.randrange(4, 2*23, 1)\n",
    "        color = []\n",
    "\n",
    "        for ii in range(colorChangeIndex):\n",
    "            color.append(0)\n",
    "        color.append(randomNumb)\n",
    "        for ii in range(3 - (colorChangeIndex + 1)):\n",
    "            color.append(0)\n",
    "\n",
    "        colorChangeIndex += 1\n",
    "        if colorChangeIndex > 2:\n",
    "            colorChangeIndex = 0\n",
    "        tree.setPixel(px, *color)\n",
    "\n",
    "\n",
    "if __name__ == \"__main__\":\n",
    "    \n",
    "    \n",
    "    try:\n",
    "        swirlTime = time.time()\n",
    "        swirlSleepTime = 1000000 # large if not using, 0.001 if are using\n",
    "        twinkleTime = time.time()\n",
    "        twinkleSleepTime = 0.33       \n",
    "        \n",
    "        while True:\n",
    "\n",
    "            waitHereDuringSleepPeriods() # Waits in this function when don't want flash\n",
    "            \n",
    "            # Test to see if nightime , adjust from GMT to EST\n",
    "            if time.time() - swirlTime > swirlSleepTime:\n",
    "                # Update the Disk Swirl:\n",
    "                swirlDiskStep()\n",
    "                swirlTime = time.time()\n",
    "                tree.show()                     # Refresh strip\n",
    "                flagZero = False    # Remember we have set lights\n",
    "\n",
    "            if time.time() - twinkleTime > twinkleSleepTime:\n",
    "                # Update base twinkle:\n",
    "                baseTwinkleOnce()\n",
    "                twinkleTime = time.time()\n",
    "                tree.show()                     # Refresh strip\n",
    "                flagZero = False    # Remember we have set lights\n",
    "                    \n",
    "    except KeyboardInterrupt:\n",
    "        # Shutdown pixels on interrupt:\n",
    "        tree.zeroAllPixels()\n",
    "        flagZero = True    # Remember we have already zeroed lights\n",
    "\n"
   ]
  },
  {
   "cell_type": "markdown",
   "metadata": {},
   "source": [
    "\n",
    "## Red-Green Oscillating Twinkle "
   ]
  },
  {
   "cell_type": "code",
   "execution_count": null,
   "metadata": {},
   "outputs": [
    {
     "name": "stdout",
     "output_type": "stream",
     "text": [
      "Tree is sleeping (hour=1) - will start again in while\n"
     ]
    }
   ],
   "source": [
    "beatPeriod = 120.   # secs for full cycle\n",
    "updateDelay = 0.01 # Update delay in secs\n",
    "\n",
    "# Initialize the strip:\n",
    "tree = tree_lights.TreeLights()  \n",
    "\n",
    "\n",
    "col_1 = np.array([128.,0,0]) # Green\n",
    "col_2 = np.array([0,128.,0]) # Red\n",
    "b_2 = 4. * np.array([1.,0,0])\n",
    "b_1 = 4. * np.array([0,1.,0])\n",
    "x = np.ones(NUM_PIXELS)\n",
    "\n",
    "if __name__ == \"__main__\":\n",
    "    try:\n",
    "        t0 = time.time()\n",
    "        \n",
    "        while True:\n",
    "            waitHereDuringSleepPeriods() # Waits in this function when don't want flash\n",
    "\n",
    "            t = time.time()\n",
    "            a = np.sin(2.*math.pi*t/beatPeriod)\n",
    "            # print( \"%7.3f %7.3f\"%(t-t0,a) )\n",
    "            writeArray2( twinkleArray(a*x) ,col_1 ,col_2 ,b_1 ,b_2 )\n",
    "                \n",
    "            tree.show()                     # Refresh strip\n",
    "            time.sleep(updateDelay)\n",
    "            \n",
    "    except KeyboardInterrupt:\n",
    "        # Shutdown pixels on interrupt:\n",
    "        tree.zeroAllPixels()\n",
    "\n"
   ]
  },
  {
   "cell_type": "code",
   "execution_count": null,
   "metadata": {},
   "outputs": [],
   "source": [
    "col_1 = np.array([64,0,0])\n",
    "col_2 = np.array([0,64,0])\n",
    "\n",
    "4*col_1"
   ]
  },
  {
   "cell_type": "code",
   "execution_count": 9,
   "metadata": {},
   "outputs": [],
   "source": [
    "tree.zeroAllPixels()"
   ]
  },
  {
   "cell_type": "markdown",
   "metadata": {},
   "source": [
    "### White Twinkle"
   ]
  },
  {
   "cell_type": "code",
   "execution_count": null,
   "metadata": {},
   "outputs": [
    {
     "name": "stdout",
     "output_type": "stream",
     "text": [
      "Day 4  Time 17:00:00\n"
     ]
    }
   ],
   "source": [
    "beatPeriod = 120.   # secs for full cycle\n",
    "updateDelay = 0.01 # Update delay in secs\n",
    "\n",
    "# Initialize the strip:\n",
    "tree = tree_lights.TreeLights()  \n",
    "\n",
    "\n",
    "col_1 = 64. * np.array([1.,1.,1.]) # Green\n",
    "col_2 = 16. * np.array([1.,1.,1.]) # Red\n",
    "b_2 = 0. * np.array([1.,1.,1.])\n",
    "b_1 = 0. * np.array([1.,1.,1.])\n",
    "x = np.ones(NUM_PIXELS)\n",
    "\n",
    "if __name__ == \"__main__\":\n",
    "    try:\n",
    "        t0 = time.time()\n",
    "        \n",
    "        while True:\n",
    "            waitHereDuringSleepPeriods() # Waits in this function when don't want flash\n",
    "\n",
    "            t = time.time()\n",
    "            a = np.sin(2.*math.pi*t/beatPeriod)\n",
    "            # print( \"%7.3f %7.3f\"%(t-t0,a) )\n",
    "            writeArray2( twinkleArray(a*x) ,col_1 ,col_2 ,b_1 ,b_2 )\n",
    "                \n",
    "            tree.show()                     # Refresh strip\n",
    "            time.sleep(updateDelay)\n",
    "            \n",
    "    except KeyboardInterrupt:\n",
    "        # Shutdown pixels on interrupt:\n",
    "        tree.zeroAllPixels()\n",
    "\n",
    "\n"
   ]
  },
  {
   "cell_type": "markdown",
   "metadata": {},
   "source": [
    "## Sectors (this block is not finished - see further down)"
   ]
  },
  {
   "cell_type": "markdown",
   "metadata": {},
   "source": [
    "Lights go round tree 7 times. \n",
    "The circumference gets smaller as it goes to higher indices.\n",
    "Attempt to model this "
   ]
  },
  {
   "cell_type": "code",
   "execution_count": null,
   "metadata": {},
   "outputs": [],
   "source": [
    "colorChangeIndex = 0 # Keep track of colors used globally\n",
    "\n",
    "sector_num = 21\n",
    "sector_shorter_fraction = -0.05 # fraction gets shorter for each new sector\n",
    "\n",
    "# Calculate the sector lengths that add to the total length \n",
    "sector_length = ( 1 + sector_shorter_fraction * np.arange( sector_num ) )\n",
    "sector_length = ( np.floor( sector_length * float(NUM_PIXELS) / np.sum( sector_length ) ) )\n",
    "# print( np.sum( sector_length ) , sector_length )\n",
    "sector_boundaries = [ int(ii) for ii in np.append( np.array([0]) , np.cumsum( sector_length )  ) ]"
   ]
  },
  {
   "cell_type": "code",
   "execution_count": null,
   "metadata": {},
   "outputs": [],
   "source": [
    "# Put single red pixel on center line\n",
    "\n",
    "tree.zeroAllPixels()\n",
    "flagZero = True    # Remember we have already zeroed lights\n",
    "\n",
    "for s in np.arange( -0.5 , 7.5, 0.5 ):\n",
    "    color = (0,64,0)\n",
    "    tree.setPixel( mapFromPositionToLEDNumber(s) , *color)\n",
    "\n",
    "tree.show()                     # Refresh strip\n",
    "flagZero = False    # Remember we have set lights"
   ]
  },
  {
   "cell_type": "code",
   "execution_count": null,
   "metadata": {},
   "outputs": [],
   "source": [
    "def simpleSectors():\n",
    "    global colorChangeIndex\n"
   ]
  },
  {
   "cell_type": "code",
   "execution_count": null,
   "metadata": {},
   "outputs": [],
   "source": [
    "colorlist = ( [ [0,64,0], [64,0,0] , [0,0,64] ] )  # [ g , r , b] \n",
    "colorindex = 0\n",
    "\n",
    "for s in range( len(sector_boundaries)-1 ):\n",
    "    # print( 'Sector Index %d covering %d - %d ' % ( s ,  sector_boundaries[s] , sector_boundaries[s+1] ) )\n",
    "    color = colorlist[ colorindex ]\n",
    "    # print( '   ' , colorindex , color )\n",
    "    for px in range( sector_boundaries[s] , sector_boundaries[s+1] ):         \n",
    "        tree.setPixel(px, *color)\n",
    "    if colorindex < len( colorlist )-1:\n",
    "        colorindex = colorindex + 1 \n",
    "    else:\n",
    "        colorindex = 0 \n",
    "tree.show()                     # Refresh strip\n",
    "flagZero = False    # Remember we have set lights\n"
   ]
  },
  {
   "cell_type": "code",
   "execution_count": null,
   "metadata": {},
   "outputs": [],
   "source": [
    "try:\n",
    "    lastTime = time.time()\n",
    "    sleepTime = 0.01 # large if not using, 0.001 if are using\n",
    "\n",
    "    while True:\n",
    "\n",
    "        waitHereDuringSleepPeriods() # Waits in this function when don't want flash\n",
    "        # Test to see if nightime , adjust from GMT to EST\n",
    "\n",
    "        if time.time() - lastTime > sleepTime:\n",
    "            # Show sectors\n",
    "            simpleSectors()\n",
    "            lastTime = time.time()\n",
    "            tree.show()                     # Refresh strip\n",
    "            flagZero = False    # Remember we have set lights\n",
    "\n",
    "except KeyboardInterrupt:\n",
    "    # Shutdown pixels on interrupt:\n",
    "    tree.zeroAllPixels()\n",
    "    flagZero = True    # Remember we have already zeroed lights\n",
    "\n"
   ]
  },
  {
   "cell_type": "markdown",
   "metadata": {},
   "source": [
    "\n",
    "## Hand Calibrate Physical positions of pixels on the tree - use a center line at front"
   ]
  },
  {
   "cell_type": "code",
   "execution_count": 8,
   "metadata": {},
   "outputs": [],
   "source": [
    "# Set and show the center line\n",
    "\n",
    "# Position on LED string of the Center Line at front - measured manually\n",
    "# First and last are fake just to help interpolation\n",
    "\n",
    "stringCenters = np.array(\n",
    "    [110+4-(258-110) # Fake point for interpolation\n",
    "    ,110+4\n",
    "    ,285+2\n",
    "    ,445\n",
    "    ,604-1\n",
    "    ,728+2\n",
    "    ,857\n",
    "    ,978\n",
    "    ,1090\n",
    "    ,1165\n",
    "    ,1165+(1165-1090) # Fake point for interpolation\n",
    "    ]\n",
    ")\n",
    "stringIndex = np.arange(len(stringCenters))\n",
    "\n",
    "# Calculate backs that divide the LEDs into rings\n",
    "stringBacks = np.int32( (stringCenters[:-1]+stringCenters[1:])/2. )\n",
    "stringBacks = np.maximum( stringBacks , 0)\n",
    "stringBacks = np.minimum( stringBacks , NUM_PIXELS)\n",
    "if stringBacks[0] > 0:\n",
    "    stringBacks = np.concatenate(( (0,),stringBacks ) )\n",
    "if stringBacks[-1] < NUM_PIXELS:\n",
    "    stringBacks = np.concatenate(( stringBacks,(NUM_PIXELS,) ) )"
   ]
  },
  {
   "cell_type": "code",
   "execution_count": 9,
   "metadata": {},
   "outputs": [
    {
     "data": {
      "text/plain": [
       "poly1d([  -0.30439005,   -0.78496503,  166.12432012,  -39.8951049 ])"
      ]
     },
     "execution_count": 9,
     "metadata": {},
     "output_type": "execute_result"
    }
   ],
   "source": [
    "# Put single red pixel on center line\n",
    "\n",
    "tree.zeroAllPixels()\n",
    "flagZero = True    # Remember we have already zeroed lights\n",
    "\n",
    "for i in stringCenters:\n",
    "    color = (0,64,0)\n",
    "    tree.setPixel( i , *color)\n",
    "\n",
    "tree.show()                     # Refresh strip\n",
    "flagZero = False    # Remember we have set lights\n",
    "\n",
    "\n",
    "mapFromPositionToLEDNumberFunc = np.poly1d( np.polyfit( stringIndex , stringCenters , deg = 3) )\n",
    "mapFromLEDNumberToPositionFunc = np.poly1d( np.polyfit( stringCenters , stringIndex ,  deg = 4) )\n",
    "\n",
    "mapFromPositionToLEDNumberFunc"
   ]
  },
  {
   "cell_type": "code",
   "execution_count": 10,
   "metadata": {},
   "outputs": [
    {
     "data": {
      "text/plain": [
       "poly1d([  1.90703367e-12,  -1.99765278e-09,   9.79754791e-07,\n",
       "         6.06979342e-03,   2.32507347e-01])"
      ]
     },
     "execution_count": 10,
     "metadata": {},
     "output_type": "execute_result"
    }
   ],
   "source": [
    "mapFromLEDNumberToPositionFunc"
   ]
  },
  {
   "cell_type": "code",
   "execution_count": 11,
   "metadata": {},
   "outputs": [],
   "source": [
    "# Linear space is -0.5 to 7.5 with tree center line on integers\n",
    "# The LED number space is provided by mapFromPositionToLEDNumber()\n",
    "#\n",
    "# Fit baased on polynomial - doesn't quiute get the center line - due to smoothing - better to use crude interp\n",
    "def mapFromPositionToLEDNumber( s ):\n",
    "    return( int( np.minimum( 1200. , np.maximum(0. , \n",
    "        mapFromPositionToLEDNumberFunc(s)           \n",
    "    ) ) ) )\n",
    "\n",
    "def mapFromLEDNumberToPosition( i ):\n",
    "    return( mapFromLEDNumberToPositionFunc(i) )"
   ]
  },
  {
   "cell_type": "code",
   "execution_count": 12,
   "metadata": {},
   "outputs": [],
   "source": [
    "# Try linear interpolations - this gets the center line better\n",
    "\n",
    "def mapFromPositionToLEDNumber( s ):\n",
    "    return( int( np.minimum( 1200. , np.maximum(0. , \n",
    "        np.interp(s,stringIndex,stringCenters)           \n",
    "    ) ) ) )\n",
    "\n",
    "def mapFromLEDNumberToPosition( i ):\n",
    "    return( np.interp(i,stringCenters,stringIndex) )"
   ]
  },
  {
   "cell_type": "code",
   "execution_count": 13,
   "metadata": {},
   "outputs": [
    {
     "data": {
      "text/plain": [
       "287"
      ]
     },
     "execution_count": 13,
     "metadata": {},
     "output_type": "execute_result"
    }
   ],
   "source": [
    "mapFromPositionToLEDNumber( 2. )"
   ]
  },
  {
   "cell_type": "code",
   "execution_count": 14,
   "metadata": {},
   "outputs": [],
   "source": [
    "# Put single red pixel on center line based on the interpolation\n",
    "# To check \n",
    "\n",
    "tree.zeroAllPixels()\n",
    "flagZero = True    # Remember we have already zeroed lights\n",
    "\n",
    "#for s in np.arange( -0.5 , 7.5, 0.5 ):\n",
    "for s in np.arange( 0. , 7.1, 1.0 ):\n",
    "    color = (0,64,0)\n",
    "    tree.setPixel( mapFromPositionToLEDNumber(s) , *color)\n",
    "\n",
    "tree.show()                     # Refresh strip\n",
    "flagZero = False    # Remember we have set lights"
   ]
  },
  {
   "cell_type": "markdown",
   "metadata": {},
   "source": [
    "## Sectors that run down the tree vertically - based on a hand calibrated center line - this works!!! 2019"
   ]
  },
  {
   "cell_type": "code",
   "execution_count": null,
   "metadata": {},
   "outputs": [
    {
     "name": "stdout",
     "output_type": "stream",
     "text": [
      "Day 0  Time 20:00:00\n"
     ]
    }
   ],
   "source": [
    "# Find the linear space values for each LED index\n",
    "pos = mapFromLEDNumberToPosition( np.arange(NUM_PIXELS) )\n",
    "\n",
    "beatPeriod = 4 # 2 , 0.8   # secs for full cycle\n",
    "updateDelay = 0.01 # Update delay in secs\n",
    "\n",
    "beatWavelength = 0.2 # 0.33 # 1. is once round tree\n",
    "\n",
    "# Initialize the strip:\n",
    "tree = tree_lights.TreeLights()  \n",
    "\n",
    "tree.zeroAllPixels()\n",
    "    \n",
    "col_1 = np.array([16.,16.,16.]) # White\n",
    "b_1 = 4. * np.array([1.,1.,1.])\n",
    "\n",
    "col_1 = np.array([64.,0.,0.]) # Green\n",
    "b_1 = 4. * np.array([1.,0.,0.])\n",
    "\n",
    "col_2 = np.array([0,64.,0]) # Red\n",
    "b_2 = 4. * np.array([0,1.,0])\n",
    "\n",
    "x = np.ones(NUM_PIXELS)\n",
    "\n",
    "try:\n",
    "    t0 = time.time()\n",
    "\n",
    "    while True:\n",
    "        waitHereDuringSleepPeriods() # Waits in this function when don't want flash\n",
    "\n",
    "        t = time.time()\n",
    "        a = np.sin(2.*math.pi*(pos/beatWavelength - (t-t0)/beatPeriod))\n",
    "        \n",
    "        # print( \"%7.3f %7.3f\"%(t-t0,a) )\n",
    "        writeArray2( a*x ,col_1 ,col_2 ,b_1 ,b_2 )\n",
    "\n",
    "        tree.show()                     # Refresh strip\n",
    "        time.sleep(updateDelay)\n",
    "\n",
    "except KeyboardInterrupt:\n",
    "    # Shutdown pixels on interrupt:\n",
    "    tree.zeroAllPixels()"
   ]
  },
  {
   "cell_type": "markdown",
   "metadata": {},
   "source": [
    "## Horizontal rings - based on a hand calibrated sectors - this works!!! 2020"
   ]
  },
  {
   "cell_type": "code",
   "execution_count": 34,
   "metadata": {},
   "outputs": [
    {
     "name": "stdout",
     "output_type": "stream",
     "text": [
      "[ 0.99609375  0.59375     0.2109375 ]\n",
      "[ 0.59375     0.99609375  0.2109375 ]\n"
     ]
    }
   ],
   "source": [
    "rgb = np.array( kelvin_table[2300] )/ 256.\n",
    "print( rgb[ [1,0,2] ] ) # grb"
   ]
  },
  {
   "cell_type": "code",
   "execution_count": null,
   "metadata": {},
   "outputs": [],
   "source": [
    "col_2"
   ]
  },
  {
   "cell_type": "code",
   "execution_count": 46,
   "metadata": {},
   "outputs": [
    {
     "name": "stdout",
     "output_type": "stream",
     "text": [
      "Day 1  Time 22:00:00\n"
     ]
    },
    {
     "ename": "KeyboardInterrupt",
     "evalue": "",
     "output_type": "error",
     "traceback": [
      "\u001b[0;31m---------------------------------------------------------------------------\u001b[0m",
      "\u001b[0;31mKeyboardInterrupt\u001b[0m                         Traceback (most recent call last)",
      "\u001b[0;32m<ipython-input-46-af21ffd6767b>\u001b[0m in \u001b[0;36m<module>\u001b[0;34m()\u001b[0m\n\u001b[1;32m     43\u001b[0m     \u001b[0;31m# flag = flag+1\u001b[0m\u001b[0;34m\u001b[0m\u001b[0;34m\u001b[0m\u001b[0m\n\u001b[1;32m     44\u001b[0m \u001b[0;34m\u001b[0m\u001b[0m\n\u001b[0;32m---> 45\u001b[0;31m     \u001b[0mtime\u001b[0m\u001b[0;34m.\u001b[0m\u001b[0msleep\u001b[0m\u001b[0;34m(\u001b[0m\u001b[0mupdateDelay\u001b[0m\u001b[0;34m)\u001b[0m\u001b[0;34m\u001b[0m\u001b[0m\n\u001b[0m",
      "\u001b[0;31mKeyboardInterrupt\u001b[0m: "
     ]
    }
   ],
   "source": [
    "# Rings of different colors\n",
    "# x = np.range(NUM_PIXELS)\n",
    "updateDelay = 0.1 # sec\n",
    "\n",
    "beatPeriod = 100. # sec\n",
    "\n",
    "if 0:\n",
    "    col_1 = np.array([64.,0.,0.]) # Green\n",
    "    col_2 = np.array([0,16.,0]) # Red\n",
    "\n",
    "if 0:\n",
    "    col_1 = 8.  * np.array([1.,1.,1.]) # Green\n",
    "    col_2 = 32. * np.array([1.,1.,1.]) # Red\n",
    "    \n",
    "if 1: # Color temperature\n",
    "    grb = (np.array( kelvin_table[3000] )/ 256.)[ [1,0,2] ]\n",
    "    col_1 = 64.  * grb # \n",
    "    col_2 = 128. * grb #\n",
    "\n",
    "t0 = time.time()\n",
    "\n",
    "flag = -1\n",
    "while True:\n",
    "    waitHereDuringSleepPeriods() # Waits in this function when don't want flash\n",
    "\n",
    "    t = time.time()\n",
    "    amplitude = 0.3 + 0.7*( np.sin(2.*math.pi*((t-t0)/beatPeriod)) )**2.\n",
    "    # amplitude = 1\n",
    "\n",
    "    for p in zip(stringBacks[:-1],stringBacks[1:]):\n",
    "        indexList = np.arange(p[0],p[1])\n",
    "        \n",
    "        flag = flag+1\n",
    "        if flag <= 1: #Most bands - Green\n",
    "            writeArrayIndexList(indexList , amplitude , col_1 )\n",
    "        else: # Single band - red\n",
    "            writeArrayIndexList(indexList , amplitude , col_2 )\n",
    "            flag = -1 # Go round again\n",
    "    \n",
    "    tree.show()                     # Refresh strip\n",
    "    flagZero = False    # Remember we have set lights\n",
    "    \n",
    "    # flag = flag+1\n",
    "    \n",
    "    time.sleep(updateDelay)"
   ]
  },
  {
   "cell_type": "code",
   "execution_count": null,
   "metadata": {},
   "outputs": [],
   "source": [
    "1"
   ]
  },
  {
   "cell_type": "markdown",
   "metadata": {},
   "source": [
    "## HSV"
   ]
  },
  {
   "cell_type": "code",
   "execution_count": 54,
   "metadata": {},
   "outputs": [],
   "source": [
    "updateDelay = 1. # sec\n",
    "\n",
    "indexList = np.arange( 710 , 721 )"
   ]
  },
  {
   "cell_type": "code",
   "execution_count": 55,
   "metadata": {},
   "outputs": [],
   "source": [
    "# Set same amplitude for many and then increase in tie steps\n",
    "for x in np.arange(0.,255.,16.):\n",
    "    amplitude = np.full_like(indexList, x )\n",
    "\n",
    "    col_1 = np.array([0.,1.,0.]) # Red\n",
    "\n",
    "    for (n,i) in enumerate( indexList ):\n",
    "        tree.setPixel( i , *( (amplitude[n] * col_1 ).astype(int) ) )\n",
    "    tree.show()                     # Refresh strip\n",
    "    time.sleep(updateDelay)\n",
    "    \n",
    "tree.zeroAllPixels()"
   ]
  },
  {
   "cell_type": "code",
   "execution_count": 50,
   "metadata": {},
   "outputs": [],
   "source": [
    "tree.zeroAllPixels()"
   ]
  },
  {
   "cell_type": "code",
   "execution_count": 51,
   "metadata": {},
   "outputs": [
    {
     "name": "stdout",
     "output_type": "stream",
     "text": [
      "Amp =     0.0\n",
      "Amp =    32.0\n",
      "Amp =    64.0\n",
      "Amp =    96.0\n",
      "Amp =   128.0\n",
      "Amp =   160.0\n",
      "Amp =   192.0\n",
      "Amp =   224.0\n",
      "Amp =   256.0\n"
     ]
    },
    {
     "ename": "OverflowError",
     "evalue": "unsigned byte integer is greater than maximum",
     "output_type": "error",
     "traceback": [
      "\u001b[0;31m---------------------------------------------------------------------------\u001b[0m",
      "\u001b[0;31mOverflowError\u001b[0m                             Traceback (most recent call last)",
      "\u001b[0;32m<ipython-input-51-c926f5d2794f>\u001b[0m in \u001b[0;36m<module>\u001b[0;34m()\u001b[0m\n\u001b[1;32m     16\u001b[0m     \u001b[0ma\u001b[0m \u001b[0;34m=\u001b[0m \u001b[0;36m32.\u001b[0m \u001b[0;34m*\u001b[0m \u001b[0mn\u001b[0m\u001b[0;34m\u001b[0m\u001b[0m\n\u001b[1;32m     17\u001b[0m     \u001b[0;32mprint\u001b[0m\u001b[0;34m(\u001b[0m\u001b[0;34m'Amp = %7.1f'\u001b[0m\u001b[0;34m%\u001b[0m\u001b[0ma\u001b[0m \u001b[0;34m)\u001b[0m\u001b[0;34m\u001b[0m\u001b[0m\n\u001b[0;32m---> 18\u001b[0;31m     \u001b[0mtree\u001b[0m\u001b[0;34m.\u001b[0m\u001b[0msetPixel\u001b[0m\u001b[0;34m(\u001b[0m \u001b[0mi\u001b[0m \u001b[0;34m,\u001b[0m \u001b[0;34m*\u001b[0m\u001b[0;34m(\u001b[0m \u001b[0;34m(\u001b[0m\u001b[0ma\u001b[0m \u001b[0;34m*\u001b[0m \u001b[0mcol_1\u001b[0m \u001b[0;34m)\u001b[0m\u001b[0;34m.\u001b[0m\u001b[0mastype\u001b[0m\u001b[0;34m(\u001b[0m\u001b[0mint\u001b[0m\u001b[0;34m)\u001b[0m \u001b[0;34m)\u001b[0m \u001b[0;34m)\u001b[0m\u001b[0;34m\u001b[0m\u001b[0m\n\u001b[0m\u001b[1;32m     19\u001b[0m \u001b[0mtree\u001b[0m\u001b[0;34m.\u001b[0m\u001b[0mshow\u001b[0m\u001b[0;34m(\u001b[0m\u001b[0;34m)\u001b[0m                     \u001b[0;31m# Refresh strip\u001b[0m\u001b[0;34m\u001b[0m\u001b[0m\n",
      "\u001b[0;32m/home/pi/DotStar/luc/python-dotstar-lights/dotstar/tree_lights.pyc\u001b[0m in \u001b[0;36msetPixel\u001b[0;34m(self, px, *args, **kwargs)\u001b[0m\n\u001b[1;32m     84\u001b[0m         \"\"\"\n\u001b[1;32m     85\u001b[0m         \u001b[0;32mif\u001b[0m \u001b[0mpx\u001b[0m \u001b[0;32mnot\u001b[0m \u001b[0;32min\u001b[0m \u001b[0mBADPIXELS\u001b[0m\u001b[0;34m:\u001b[0m\u001b[0;34m\u001b[0m\u001b[0m\n\u001b[0;32m---> 86\u001b[0;31m             \u001b[0mself\u001b[0m\u001b[0;34m.\u001b[0m\u001b[0mlights\u001b[0m\u001b[0;34m.\u001b[0m\u001b[0msetPixelColor\u001b[0m\u001b[0;34m(\u001b[0m\u001b[0mpx\u001b[0m\u001b[0;34m,\u001b[0m \u001b[0;34m*\u001b[0m\u001b[0margs\u001b[0m\u001b[0;34m,\u001b[0m \u001b[0;34m**\u001b[0m\u001b[0mkwargs\u001b[0m\u001b[0;34m)\u001b[0m\u001b[0;34m\u001b[0m\u001b[0m\n\u001b[0m\u001b[1;32m     87\u001b[0m \u001b[0;34m\u001b[0m\u001b[0m\n\u001b[1;32m     88\u001b[0m     \u001b[0;32mdef\u001b[0m \u001b[0mshow\u001b[0m\u001b[0;34m(\u001b[0m\u001b[0mself\u001b[0m\u001b[0;34m)\u001b[0m\u001b[0;34m:\u001b[0m\u001b[0;34m\u001b[0m\u001b[0m\n",
      "\u001b[0;31mOverflowError\u001b[0m: unsigned byte integer is greater than maximum"
     ]
    }
   ],
   "source": [
    "\n",
    "# Display a range of smplitudes\n",
    "\n",
    "# Steps of 8 are resolvable, 4 much less so\n",
    "# Above 128 is very similar - I should make an intensity scaling that is linear\n",
    "#\n",
    "\n",
    "tree.zeroAllPixels()\n",
    "\n",
    "indexList = np.arange( 700 , 732 )\n",
    "\n",
    "amplitude = np.full_like(indexList, x )\n",
    "\n",
    "col_1 = np.array([0.,1.,0.]) # Red\n",
    "\n",
    "for (n,i) in enumerate( indexList ):\n",
    "    a = 32. * n\n",
    "    print('Amp = %7.1f'%a )\n",
    "    tree.setPixel( i , *( (a * col_1 ).astype(int) ) )\n",
    "tree.show()                     # Refresh strip"
   ]
  },
  {
   "cell_type": "code",
   "execution_count": 66,
   "metadata": {},
   "outputs": [
    {
     "name": "stdout",
     "output_type": "stream",
     "text": [
      "(array([ 0.,  1.,  1.]), array([ 1.,  0.,  0.]))\n"
     ]
    }
   ],
   "source": [
    "# Conversion\n",
    "rgb = np.array( (1.,0.,0.) )\n",
    "hsv = mpl.colors.rgb_to_hsv( rgb )\n",
    "print( hsv , mpl.colors.hsv_to_rgb( hsv ))"
   ]
  },
  {
   "cell_type": "code",
   "execution_count": 69,
   "metadata": {},
   "outputs": [
    {
     "data": {
      "text/plain": [
       "array([ 1.,  0.,  0.])"
      ]
     },
     "execution_count": 69,
     "metadata": {},
     "output_type": "execute_result"
    }
   ],
   "source": [
    "mpl.colors.hsv_to_rgb( hsv )"
   ]
  },
  {
   "cell_type": "code",
   "execution_count": 81,
   "metadata": {},
   "outputs": [
    {
     "ename": "ValueError",
     "evalue": "operands could not be broadcast together with shapes (1,5) (3,) ",
     "output_type": "error",
     "traceback": [
      "\u001b[0;31m---------------------------------------------------------------------------\u001b[0m",
      "\u001b[0;31mValueError\u001b[0m                                Traceback (most recent call last)",
      "\u001b[0;32m<ipython-input-81-e8dd0fee394d>\u001b[0m in \u001b[0;36m<module>\u001b[0;34m()\u001b[0m\n\u001b[0;32m----> 1\u001b[0;31m \u001b[0mrgb\u001b[0m \u001b[0;34m=\u001b[0m \u001b[0mnp\u001b[0m\u001b[0;34m.\u001b[0m\u001b[0mones\u001b[0m\u001b[0;34m(\u001b[0m\u001b[0;34m(\u001b[0m\u001b[0;36m1\u001b[0m\u001b[0;34m,\u001b[0m\u001b[0;36m5\u001b[0m\u001b[0;34m)\u001b[0m\u001b[0;34m)\u001b[0m \u001b[0;34m*\u001b[0m \u001b[0mnp\u001b[0m\u001b[0;34m.\u001b[0m\u001b[0marray\u001b[0m\u001b[0;34m(\u001b[0m \u001b[0;34m(\u001b[0m\u001b[0;36m1.\u001b[0m\u001b[0;34m,\u001b[0m\u001b[0;36m0.\u001b[0m\u001b[0;34m,\u001b[0m\u001b[0;36m0.\u001b[0m\u001b[0;34m)\u001b[0m \u001b[0;34m)\u001b[0m\u001b[0;34m\u001b[0m\u001b[0m\n\u001b[0m",
      "\u001b[0;31mValueError\u001b[0m: operands could not be broadcast together with shapes (1,5) (3,) "
     ]
    }
   ],
   "source": [
    "rgb = np.ones((1,5)) * np.array( (1.,0.,0.) )"
   ]
  },
  {
   "cell_type": "code",
   "execution_count": 75,
   "metadata": {},
   "outputs": [
    {
     "data": {
      "text/plain": [
       "array([ 1.,  0.,  0.])"
      ]
     },
     "execution_count": 75,
     "metadata": {},
     "output_type": "execute_result"
    }
   ],
   "source": [
    "rgb"
   ]
  },
  {
   "cell_type": "code",
   "execution_count": 80,
   "metadata": {},
   "outputs": [
    {
     "data": {
      "text/plain": [
       "array([[ 1.,  1.,  1.,  1.,  1.]])"
      ]
     },
     "execution_count": 80,
     "metadata": {},
     "output_type": "execute_result"
    }
   ],
   "source": [
    "np.ones((1,5))"
   ]
  },
  {
   "cell_type": "markdown",
   "metadata": {},
   "source": [
    "Need to add hsv array creation and handling to see if I can create waves acorss the tree\n",
    "Will need to apply xy coord that is converted to LED index\n"
   ]
  },
  {
   "cell_type": "markdown",
   "metadata": {},
   "source": [
    "# Random Inspired Effects"
   ]
  },
  {
   "cell_type": "code",
   "execution_count": 91,
   "metadata": {},
   "outputs": [
    {
     "name": "stdout",
     "output_type": "stream",
     "text": [
      "Day 1  Time 23:00:00\n"
     ]
    },
    {
     "ename": "KeyboardInterrupt",
     "evalue": "",
     "output_type": "error",
     "traceback": [
      "\u001b[0;31m---------------------------------------------------------------------------\u001b[0m",
      "\u001b[0;31mKeyboardInterrupt\u001b[0m                         Traceback (most recent call last)",
      "\u001b[0;32m<ipython-input-91-f53385720781>\u001b[0m in \u001b[0;36m<module>\u001b[0;34m()\u001b[0m\n\u001b[1;32m     71\u001b[0m     \u001b[0;31m# flag = flag+1\u001b[0m\u001b[0;34m\u001b[0m\u001b[0;34m\u001b[0m\u001b[0m\n\u001b[1;32m     72\u001b[0m \u001b[0;34m\u001b[0m\u001b[0m\n\u001b[0;32m---> 73\u001b[0;31m     \u001b[0mtime\u001b[0m\u001b[0;34m.\u001b[0m\u001b[0msleep\u001b[0m\u001b[0;34m(\u001b[0m\u001b[0mupdateDelay\u001b[0m\u001b[0;34m)\u001b[0m\u001b[0;34m\u001b[0m\u001b[0m\n\u001b[0m",
      "\u001b[0;31mKeyboardInterrupt\u001b[0m: "
     ]
    }
   ],
   "source": [
    "# Rings of different colors\n",
    "# x = np.range(NUM_PIXELS)\n",
    "updateDelay = 0.1 # sec\n",
    "\n",
    "beatPeriod = 100. # sec\n",
    "\n",
    "if 0:\n",
    "    col_1 = np.array([64.,0.,0.]) # Green\n",
    "    col_2 = np.array([0,16.,0]) # Red\n",
    "\n",
    "\n",
    "t0 = time.time()\n",
    "\n",
    "NP = NUM_PIXELS\n",
    "# NP = 5\n",
    "a = np.zeros( (NP,3) )\n",
    "a[0] = np.random.random_sample((1,3)) # Some of algorithms use the first elememt as a seed\n",
    "\n",
    "flag = -1\n",
    "while True:\n",
    "    waitHereDuringSleepPeriods() # Waits in this function when don't want flash\n",
    "\n",
    "    t = time.time()\n",
    "    # amplitude = 0.3 + 0.7*( np.sin(2.*math.pi*((t-t0)/beatPeriod)) )**2.\n",
    "    # amplitude = 1\n",
    "\n",
    "    skew = 5.\n",
    "    renderMethod = 1    \n",
    "    \n",
    "    # Create a random grb values in range 0->1. and possibly sort them\n",
    "    if 0: # Simple random colors with a bias for dominat g,r,b\n",
    "        a = np.random.random_sample((NP,3)) # grb array \n",
    "        a = a[np.argsort(a[:, 0])] # Sort rows by first value\n",
    "        a = a[np.argsort(a[:, 1])] # Sort rows by ? value\n",
    "        a = a[np.argsort(a[:, 2])] # Sort rows by ? value\n",
    "        skew = 5.\n",
    "        renderMethod = 1\n",
    "        \n",
    "    # Create an initial color and then slowly morph it\n",
    "    # If value overflows then wrap it?\n",
    "    # 201207 Should also plot what it is doing to undestand functin better\n",
    "    # I should do this in HSV space and H would wrap automatically - S and V should be pulled to a central value\n",
    "    #\n",
    "\n",
    "    if 1:\n",
    "        seed = a[0]\n",
    "        for i in np.arange(NP):\n",
    "            seed = np.mod( seed + 0.01 * (np.random.random_sample(size=(1,3))-0.5) , 1.)\n",
    "            a[i] = seed\n",
    "        skew = 2.\n",
    "        renderMethod = 1    \n",
    "\n",
    "\n",
    "\n",
    "#    for i in np.arange(NUM_PIXELS):\n",
    "#        if 0: # Simple random colors with a bias for dominat g,r,b\n",
    "#            tree.setPixel( \n",
    "#                i , \n",
    "#                *( (128. * np.random.random_sample((3,1))**3. ).astype(int) ) # grb array expanded as 3 int arguments\n",
    "#            )   \n",
    "    \n",
    "    # Write grb values from array a[i,3]\n",
    "    for i in np.arange(NP):\n",
    "        if renderMethod == 1:\n",
    "            tree.setPixel( \n",
    "                i , \n",
    "                *( (128. * a[i]**skew ).astype(int) ) # grb array expanded as 3 int arguments\n",
    "            )\n",
    "            \n",
    "        \n",
    "    tree.show()                     # Refresh strip\n",
    "    flagZero = False    # Remember we have set lights\n",
    "    \n",
    "    # flag = flag+1\n",
    "    \n",
    "    time.sleep(updateDelay)"
   ]
  },
  {
   "cell_type": "code",
   "execution_count": 61,
   "metadata": {},
   "outputs": [],
   "source": [
    "a = np.random.random_sample((NP,3))"
   ]
  },
  {
   "cell_type": "code",
   "execution_count": 74,
   "metadata": {},
   "outputs": [
    {
     "data": {
      "text/plain": [
       "array([ 0.4,  0.3,  0.3])"
      ]
     },
     "execution_count": 74,
     "metadata": {},
     "output_type": "execute_result"
    }
   ],
   "source": [
    "np.mod( np.array( (1.4,0.3,2.3) ), 1. ) "
   ]
  },
  {
   "cell_type": "code",
   "execution_count": 77,
   "metadata": {},
   "outputs": [
    {
     "data": {
      "text/plain": [
       "array([[ 0.57285594,  0.34728599,  0.76939891]])"
      ]
     },
     "execution_count": 77,
     "metadata": {},
     "output_type": "execute_result"
    }
   ],
   "source": [
    "seed"
   ]
  },
  {
   "cell_type": "code",
   "execution_count": 83,
   "metadata": {},
   "outputs": [
    {
     "data": {
      "text/plain": [
       "array([ 0.6755448 ,  0.04186577,  0.72947593])"
      ]
     },
     "execution_count": 83,
     "metadata": {},
     "output_type": "execute_result"
    }
   ],
   "source": [
    "a[0]"
   ]
  },
  {
   "cell_type": "code",
   "execution_count": 82,
   "metadata": {},
   "outputs": [],
   "source": [
    "a[0] = np.random.random_sample((1,3))"
   ]
  },
  {
   "cell_type": "code",
   "execution_count": 86,
   "metadata": {},
   "outputs": [
    {
     "data": {
      "text/plain": [
       "array([[ 0.45807109,  0.54927408,  0.84094728]])"
      ]
     },
     "execution_count": 86,
     "metadata": {},
     "output_type": "execute_result"
    }
   ],
   "source": [
    "np.random.random_sample(size=(1,3))"
   ]
  },
  {
   "cell_type": "code",
   "execution_count": null,
   "metadata": {},
   "outputs": [],
   "source": []
  }
 ],
 "metadata": {
  "kernelspec": {
   "display_name": "Python 2",
   "language": "python",
   "name": "python2"
  },
  "language_info": {
   "codemirror_mode": {
    "name": "ipython",
    "version": 2
   },
   "file_extension": ".py",
   "mimetype": "text/x-python",
   "name": "python",
   "nbconvert_exporter": "python",
   "pygments_lexer": "ipython2",
   "version": "2.7.13"
  }
 },
 "nbformat": 4,
 "nbformat_minor": 2
}
