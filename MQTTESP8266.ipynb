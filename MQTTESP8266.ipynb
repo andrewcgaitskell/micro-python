{
 "cells": [
  {
   "cell_type": "raw",
   "metadata": {},
   "source": [
    "https://github.com/miketeachman/micropython-adafruit-mqtt-esp8266/blob/master/publishAdafruit.py"
   ]
  },
  {
   "cell_type": "code",
   "execution_count": 1,
   "metadata": {},
   "outputs": [
    {
     "name": "stdout",
     "output_type": "stream",
     "text": [
      "\u001b[34mConnected on /dev/tty.usbserial-14110\n",
      "\u001b[0m"
     ]
    }
   ],
   "source": [
    "%connect '/dev/tty.usbserial-14110' --baudrate=115200 --user='micro' --password='M1cr0!!' --wait=0"
   ]
  },
  {
   "cell_type": "code",
   "execution_count": 1,
   "metadata": {},
   "outputs": [],
   "source": [
    "import network\n",
    "import time\n",
    "from umqtt.robust import MQTTClient\n",
    "import os\n",
    "import gc\n",
    "import sys"
   ]
  },
  {
   "cell_type": "raw",
   "metadata": {},
   "source": [
    "# WiFi connection information\n",
    "WIFI_SSID = '<ENTER_WIFI_SSID>'\n",
    "WIFI_PASSWORD = '<ENTER_WIFI_PASSWORD>'\n",
    "\n",
    "# turn off the WiFi Access Point\n",
    "ap_if = network.WLAN(network.AP_IF)\n",
    "ap_if.active(False)\n",
    "\n",
    "# connect the device to the WiFi network\n",
    "wifi = network.WLAN(network.STA_IF)\n",
    "wifi.active(True)\n",
    "wifi.connect(WIFI_SSID, WIFI_PASSWORD)\n",
    "\n",
    "# wait until the device is connected to the WiFi network\n",
    "MAX_ATTEMPTS = 20\n",
    "attempt_count = 0\n",
    "while not wifi.isconnected() and attempt_count < MAX_ATTEMPTS:\n",
    "    attempt_count += 1\n",
    "    time.sleep(1)\n",
    "\n",
    "if attempt_count == MAX_ATTEMPTS:\n",
    "    print('could not connect to the WiFi network')\n",
    "    sys.exit()\n"
   ]
  },
  {
   "cell_type": "code",
   "execution_count": null,
   "metadata": {},
   "outputs": [],
   "source": [
    "#define AIO_SERVER      \"io.adafruit.com\"\n",
    "#define AIO_SERVERPORT  1883                   // use 8883 for SSL\n",
    "#define AIO_USERNAME  \"andrewcgaitskell\"\n",
    "#define AIO_KEY       \"aio_dUpf35709LQ92VyZnhRs2w5xekHk\""
   ]
  },
  {
   "cell_type": "code",
   "execution_count": 1,
   "metadata": {},
   "outputs": [],
   "source": [
    "\n",
    "# create a random MQTT clientID \n",
    "random_num = int.from_bytes(os.urandom(3), 'little')\n",
    "mqtt_client_id = bytes('client_'+str(random_num), 'utf-8')\n",
    "\n",
    "# connect to Adafruit IO MQTT broker using unsecure TCP (port 1883)\n",
    "# \n",
    "# To use a secure connection (encrypted) with TLS: \n",
    "#   set MQTTClient initializer parameter to \"ssl=True\"\n",
    "#   Caveat: a secure connection uses about 9k bytes of the heap\n",
    "#         (about 1/4 of the micropython heap on the ESP8266 platform)\n",
    "ADAFRUIT_IO_URL = b'io.adafruit.com' \n",
    "ADAFRUIT_USERNAME = b'andrewcgaitskell'\n",
    "ADAFRUIT_IO_KEY = b'aio_dUpf35709LQ92VyZnhRs2w5xekHk'\n",
    "ADAFRUIT_IO_FEEDNAME = b'esp8266'\n",
    "\n"
   ]
  },
  {
   "cell_type": "code",
   "execution_count": 1,
   "metadata": {},
   "outputs": [],
   "source": [
    "client = MQTTClient(client_id=mqtt_client_id, \n",
    "                    server=ADAFRUIT_IO_URL, \n",
    "                    user=ADAFRUIT_USERNAME, \n",
    "                    password=ADAFRUIT_IO_KEY,\n",
    "                    ssl=False)\n"
   ]
  },
  {
   "cell_type": "code",
   "execution_count": 1,
   "metadata": {},
   "outputs": [],
   "source": [
    "try:            \n",
    "    client.connect()\n",
    "except Exception as e:\n",
    "    print('could not connect to MQTT server {}{}'.format(type(e).__name__, e))\n",
    "    sys.exit()\n"
   ]
  },
  {
   "cell_type": "code",
   "execution_count": 1,
   "metadata": {},
   "outputs": [
    {
     "name": "stdout",
     "output_type": "stream",
     "text": [
      "Comms Exception timeout waiting for first EOF reception"
     ]
    }
   ],
   "source": [
    "\n",
    "# publish free heap statistics to Adafruit IO using MQTT\n",
    "#\n",
    "# format of feed name:  \n",
    "#   \"ADAFRUIT_USERNAME/feeds/ADAFRUIT_IO_FEEDNAME\"\n",
    "mqtt_feedname = bytes('{:s}/feeds/{:s}'.format(ADAFRUIT_USERNAME, ADAFRUIT_IO_FEEDNAME), 'utf-8')\n",
    "PUBLISH_PERIOD_IN_SEC = 10 \n",
    "while True:\n",
    "    try:\n",
    "        free_heap_in_bytes = gc.mem_free()\n",
    "        client.publish(mqtt_feedname,    \n",
    "                   bytes(str(free_heap_in_bytes), 'utf-8'), \n",
    "                   qos=0)  \n",
    "        time.sleep(PUBLISH_PERIOD_IN_SEC)\n",
    "    except KeyboardInterrupt:\n",
    "        print('Ctrl-C pressed...exiting')\n",
    "        client.disconnect()\n",
    "        sys.exit()\n"
   ]
  },
  {
   "cell_type": "code",
   "execution_count": null,
   "metadata": {},
   "outputs": [],
   "source": []
  }
 ],
 "metadata": {
  "kernelspec": {
   "display_name": "MicroPython Remote",
   "language": "micropython",
   "name": "micropython"
  },
  "language_info": {
   "codemirror_mode": "python",
   "file_extension": ".py",
   "mimetype": "text/python",
   "name": "micropython"
  }
 },
 "nbformat": 4,
 "nbformat_minor": 4
}
